{
 "cells": [
  {
   "cell_type": "code",
   "execution_count": 68,
   "metadata": {},
   "outputs": [],
   "source": [
    "import pandas_datareader.data as web"
   ]
  },
  {
   "cell_type": "code",
   "execution_count": 69,
   "metadata": {},
   "outputs": [],
   "source": [
    "import datetime\n",
    "start = datetime.datetime(2000,1,1)\n",
    "end = datetime.datetime(2021,8,1)\n",
    "df = web.DataReader('GOOGL', 'stooq',start, end)"
   ]
  },
  {
   "cell_type": "code",
   "execution_count": 70,
   "metadata": {},
   "outputs": [
    {
     "name": "stdout",
     "output_type": "stream",
     "text": [
      "                Open       High        Low     Close      Volume\n",
      "Date                                                            \n",
      "2004-08-19    50.000    52.0300    47.9800    50.170  44703800.0\n",
      "2004-08-20    50.505    54.5400    50.2500    54.155  22857200.0\n",
      "2004-08-23    55.375    56.7400    54.5250    54.700  18274400.0\n",
      "2004-08-24    55.620    55.8000    51.7850    52.435  15262600.0\n",
      "2004-08-25    52.480    54.0000    51.9400    53.000   9197800.0\n",
      "...              ...        ...        ...       ...         ...\n",
      "2021-07-19  2521.790  2524.1000  2470.1000  2491.560   1398379.0\n",
      "2021-07-20  2510.550  2540.8636  2487.0100  2524.190   1315822.0\n",
      "2021-07-21  2522.670  2551.9200  2520.4700  2550.980   1037309.0\n",
      "2021-07-22  2556.880  2569.6600  2549.9769  2568.430    715094.0\n",
      "2021-07-23  2608.610  2667.9799  2596.0100  2660.300   2075321.0\n",
      "\n",
      "[4261 rows x 5 columns]\n"
     ]
    }
   ],
   "source": [
    "df.sort_index(inplace=True, ascending=True)\n",
    "df.dropna(inplace=True)\n",
    "print(df)"
   ]
  },
  {
   "cell_type": "code",
   "execution_count": 71,
   "metadata": {},
   "outputs": [
    {
     "name": "stdout",
     "output_type": "stream",
     "text": [
      "                Open       High        Low     Close      Volume   label\n",
      "Date                                                                    \n",
      "2004-08-19    50.000    52.0300    47.9800    50.170  44703800.0  92.510\n",
      "2004-08-20    50.505    54.5400    50.2500    54.155  22857200.0  91.875\n",
      "2004-08-23    55.375    56.7400    54.5250    54.700  18274400.0  93.150\n",
      "2004-08-24    55.620    55.8000    51.7850    52.435  15262600.0  93.950\n",
      "2004-08-25    52.480    54.0000    51.9400    53.000   9197800.0  95.955\n",
      "...              ...        ...        ...       ...         ...     ...\n",
      "2021-07-19  2521.790  2524.1000  2470.1000  2491.560   1398379.0     NaN\n",
      "2021-07-20  2510.550  2540.8636  2487.0100  2524.190   1315822.0     NaN\n",
      "2021-07-21  2522.670  2551.9200  2520.4700  2550.980   1037309.0     NaN\n",
      "2021-07-22  2556.880  2569.6600  2549.9769  2568.430    715094.0     NaN\n",
      "2021-07-23  2608.610  2667.9799  2596.0100  2660.300   2075321.0     NaN\n",
      "\n",
      "[4261 rows x 6 columns]\n"
     ]
    }
   ],
   "source": [
    "predict_count = int(len(df)*0.02)\n",
    "df['label'] = df['Close'].shift(-predict_count)\n",
    "print(df)"
   ]
  },
  {
   "cell_type": "code",
   "execution_count": 72,
   "metadata": {},
   "outputs": [],
   "source": [
    "X = df.drop(['label'],axis=1)\n",
    "y = df['label'][:-predict_count]"
   ]
  },
  {
   "cell_type": "code",
   "execution_count": 73,
   "metadata": {},
   "outputs": [
    {
     "name": "stdout",
     "output_type": "stream",
     "text": [
      "Date\n",
      "2004-08-19      92.510\n",
      "2004-08-20      91.875\n",
      "2004-08-23      93.150\n",
      "2004-08-24      93.950\n",
      "2004-08-25      95.955\n",
      "                ...   \n",
      "2021-03-17    2491.560\n",
      "2021-03-18    2524.190\n",
      "2021-03-19    2550.980\n",
      "2021-03-22    2568.430\n",
      "2021-03-23    2660.300\n",
      "Name: label, Length: 4176, dtype: float64\n"
     ]
    }
   ],
   "source": [
    "print(y)"
   ]
  },
  {
   "cell_type": "code",
   "execution_count": 74,
   "metadata": {},
   "outputs": [
    {
     "name": "stdout",
     "output_type": "stream",
     "text": [
      "[[-1.11986298 -1.11660464 -1.12189299 -1.1185183   4.88423503]\n",
      " [-1.11885236 -1.11163017 -1.11730928 -1.11055221  2.08299145]\n",
      " [-1.10910644 -1.10727008 -1.10867697 -1.10946275  1.49536962]\n",
      " ...\n",
      " [ 3.82848322  3.83782309  3.87069308  3.88064668 -0.71482741]\n",
      " [ 3.89694481  3.87298126  3.93027502  3.91552955 -0.75614289]\n",
      " [ 4.0004677   4.06783737  4.02322755  4.09917936 -0.58173006]]\n"
     ]
    }
   ],
   "source": [
    "from sklearn.preprocessing import StandardScaler\n",
    "scale = StandardScaler()\n",
    "scale.fit(X)\n",
    "X = scale.transform(X)\n",
    "print(X)"
   ]
  },
  {
   "cell_type": "code",
   "execution_count": 75,
   "metadata": {},
   "outputs": [
    {
     "name": "stdout",
     "output_type": "stream",
     "text": [
      "4176\n",
      "85\n"
     ]
    }
   ],
   "source": [
    "X_lately = X[-predict_count:]\n",
    "X = X[:-predict_count]\n",
    "print(len(X))\n",
    "print(len(X_lately))"
   ]
  },
  {
   "cell_type": "code",
   "execution_count": 76,
   "metadata": {},
   "outputs": [
    {
     "name": "stdout",
     "output_type": "stream",
     "text": [
      "3340\n",
      "3340\n"
     ]
    }
   ],
   "source": [
    "from sklearn.model_selection import train_test_split\n",
    "x_train, x_test, y_train, y_test = train_test_split(X, y, test_size=0.2)\n",
    "print(len(x_train))\n",
    "print(len(y_train))"
   ]
  },
  {
   "cell_type": "code",
   "execution_count": 77,
   "metadata": {},
   "outputs": [
    {
     "data": {
      "text/plain": [
       "0.9689647454954871"
      ]
     },
     "execution_count": 77,
     "metadata": {},
     "output_type": "execute_result"
    }
   ],
   "source": [
    "from sklearn.linear_model import LinearRegression\n",
    "model = LinearRegression()\n",
    "model.fit(x_train, y_train)\n",
    "model.score(x_test, y_test)"
   ]
  },
  {
   "cell_type": "code",
   "execution_count": 78,
   "metadata": {},
   "outputs": [
    {
     "name": "stdout",
     "output_type": "stream",
     "text": [
      "85\n",
      "[2271.4995179  2259.52102829 2220.03960165 2257.95187081 2231.03665833\n",
      " 2302.33061264 2366.95659237 2573.43436857 2414.07564215 2448.01614083\n",
      " 2457.98773101 2485.50281082 2434.27726946 2432.99848829 2452.78834891\n",
      " 2531.69473264 2465.31629833 2521.98357886 2504.28946986 2470.02582499\n",
      " 2523.21026363 2545.12258712 2519.36022352 2510.53149742 2766.89554407\n",
      " 2603.880413   2595.36355994 2620.98964773 2588.08380046 2519.70967439\n",
      " 2567.42618184 2555.85849094 2556.04070188 2520.41595938 2502.73642135\n",
      " 2431.07992727 2492.60468268 2494.73078209 2534.08292428 2525.90205115\n",
      " 2505.18423317 2505.51700016 2633.71988808 2581.27366965 2578.98419404\n",
      " 2585.17450594 2552.34432705 2579.84573847 2607.78681129 2544.23708716\n",
      " 2620.29966941 2587.96912625 2607.35175991 2572.16543128 2649.1496912\n",
      " 2618.14913885 2649.02991521 2664.65489387 2668.71220115 2692.19766919\n",
      " 2634.89482491 2673.16320789 2637.78681959 2663.68436933 2629.59112551\n",
      " 2633.4033984  2639.42464085 2651.15292531 2613.03039149 2635.9716697\n",
      " 2767.43964654 2745.64326589 2731.09217322 2734.82833828 2705.42765439\n",
      " 2745.96969957 2771.79560924 2809.27724774 2804.91596299 2762.02239194\n",
      " 2771.62673101 2807.48329214 2771.12811335 2754.06491173 2997.75140006]\n"
     ]
    }
   ],
   "source": [
    "predict = model.predict(X_lately)\n",
    "print(len(predict))\n",
    "print(predict)"
   ]
  },
  {
   "cell_type": "code",
   "execution_count": 79,
   "metadata": {},
   "outputs": [
    {
     "name": "stdout",
     "output_type": "stream",
     "text": [
      "                Open       High        Low     Close      Volume   label  \\\n",
      "Date                                                                       \n",
      "2004-08-19    50.000    52.0300    47.9800    50.170  44703800.0  92.510   \n",
      "2004-08-20    50.505    54.5400    50.2500    54.155  22857200.0  91.875   \n",
      "2004-08-23    55.375    56.7400    54.5250    54.700  18274400.0  93.150   \n",
      "2004-08-24    55.620    55.8000    51.7850    52.435  15262600.0  93.950   \n",
      "2004-08-25    52.480    54.0000    51.9400    53.000   9197800.0  95.955   \n",
      "...              ...        ...        ...       ...         ...     ...   \n",
      "2021-07-19  2521.790  2524.1000  2470.1000  2491.560   1398379.0     NaN   \n",
      "2021-07-20  2510.550  2540.8636  2487.0100  2524.190   1315822.0     NaN   \n",
      "2021-07-21  2522.670  2551.9200  2520.4700  2550.980   1037309.0     NaN   \n",
      "2021-07-22  2556.880  2569.6600  2549.9769  2568.430    715094.0     NaN   \n",
      "2021-07-23  2608.610  2667.9799  2596.0100  2660.300   2075321.0     NaN   \n",
      "\n",
      "            predict  \n",
      "Date                 \n",
      "2004-08-19      NaN  \n",
      "2004-08-20      NaN  \n",
      "2004-08-23      NaN  \n",
      "2004-08-24      NaN  \n",
      "2004-08-25      NaN  \n",
      "...             ...  \n",
      "2021-07-19      NaN  \n",
      "2021-07-20      NaN  \n",
      "2021-07-21      NaN  \n",
      "2021-07-22      NaN  \n",
      "2021-07-23      NaN  \n",
      "\n",
      "[4261 rows x 7 columns]\n"
     ]
    }
   ],
   "source": [
    "import numpy as np\n",
    "df['predict'] = np.nan\n",
    "print(df)"
   ]
  },
  {
   "cell_type": "code",
   "execution_count": 80,
   "metadata": {},
   "outputs": [
    {
     "name": "stdout",
     "output_type": "stream",
     "text": [
      "                     Open  High  Low  Close  Volume  label      predict\n",
      "Date                                                                   \n",
      "2021-09-07 08:00:00   NaN   NaN  NaN    NaN     NaN    NaN  2585.174506\n",
      "2021-09-08 08:00:00   NaN   NaN  NaN    NaN     NaN    NaN  2552.344327\n",
      "2021-09-09 08:00:00   NaN   NaN  NaN    NaN     NaN    NaN  2579.845738\n",
      "2021-09-10 08:00:00   NaN   NaN  NaN    NaN     NaN    NaN  2607.786811\n",
      "2021-09-11 08:00:00   NaN   NaN  NaN    NaN     NaN    NaN  2544.237087\n",
      "2021-09-12 08:00:00   NaN   NaN  NaN    NaN     NaN    NaN  2620.299669\n",
      "2021-09-13 08:00:00   NaN   NaN  NaN    NaN     NaN    NaN  2587.969126\n",
      "2021-09-14 08:00:00   NaN   NaN  NaN    NaN     NaN    NaN  2607.351760\n",
      "2021-09-15 08:00:00   NaN   NaN  NaN    NaN     NaN    NaN  2572.165431\n",
      "2021-09-16 08:00:00   NaN   NaN  NaN    NaN     NaN    NaN  2649.149691\n",
      "2021-09-17 08:00:00   NaN   NaN  NaN    NaN     NaN    NaN  2618.149139\n",
      "2021-09-18 08:00:00   NaN   NaN  NaN    NaN     NaN    NaN  2649.029915\n",
      "2021-09-19 08:00:00   NaN   NaN  NaN    NaN     NaN    NaN  2664.654894\n",
      "2021-09-20 08:00:00   NaN   NaN  NaN    NaN     NaN    NaN  2668.712201\n",
      "2021-09-21 08:00:00   NaN   NaN  NaN    NaN     NaN    NaN  2692.197669\n",
      "2021-09-22 08:00:00   NaN   NaN  NaN    NaN     NaN    NaN  2634.894825\n",
      "2021-09-23 08:00:00   NaN   NaN  NaN    NaN     NaN    NaN  2673.163208\n",
      "2021-09-24 08:00:00   NaN   NaN  NaN    NaN     NaN    NaN  2637.786820\n",
      "2021-09-25 08:00:00   NaN   NaN  NaN    NaN     NaN    NaN  2663.684369\n",
      "2021-09-26 08:00:00   NaN   NaN  NaN    NaN     NaN    NaN  2629.591126\n",
      "2021-09-27 08:00:00   NaN   NaN  NaN    NaN     NaN    NaN  2633.403398\n",
      "2021-09-28 08:00:00   NaN   NaN  NaN    NaN     NaN    NaN  2639.424641\n",
      "2021-09-29 08:00:00   NaN   NaN  NaN    NaN     NaN    NaN  2651.152925\n",
      "2021-09-30 08:00:00   NaN   NaN  NaN    NaN     NaN    NaN  2613.030391\n",
      "2021-10-01 08:00:00   NaN   NaN  NaN    NaN     NaN    NaN  2635.971670\n",
      "2021-10-02 08:00:00   NaN   NaN  NaN    NaN     NaN    NaN  2767.439647\n",
      "2021-10-03 08:00:00   NaN   NaN  NaN    NaN     NaN    NaN  2745.643266\n",
      "2021-10-04 08:00:00   NaN   NaN  NaN    NaN     NaN    NaN  2731.092173\n",
      "2021-10-05 08:00:00   NaN   NaN  NaN    NaN     NaN    NaN  2734.828338\n",
      "2021-10-06 08:00:00   NaN   NaN  NaN    NaN     NaN    NaN  2705.427654\n",
      "2021-10-07 08:00:00   NaN   NaN  NaN    NaN     NaN    NaN  2745.969700\n",
      "2021-10-08 08:00:00   NaN   NaN  NaN    NaN     NaN    NaN  2771.795609\n",
      "2021-10-09 08:00:00   NaN   NaN  NaN    NaN     NaN    NaN  2809.277248\n",
      "2021-10-10 08:00:00   NaN   NaN  NaN    NaN     NaN    NaN  2804.915963\n",
      "2021-10-11 08:00:00   NaN   NaN  NaN    NaN     NaN    NaN  2762.022392\n",
      "2021-10-12 08:00:00   NaN   NaN  NaN    NaN     NaN    NaN  2771.626731\n",
      "2021-10-13 08:00:00   NaN   NaN  NaN    NaN     NaN    NaN  2807.483292\n",
      "2021-10-14 08:00:00   NaN   NaN  NaN    NaN     NaN    NaN  2771.128113\n",
      "2021-10-15 08:00:00   NaN   NaN  NaN    NaN     NaN    NaN  2754.064912\n",
      "2021-10-16 08:00:00   NaN   NaN  NaN    NaN     NaN    NaN  2997.751400\n"
     ]
    }
   ],
   "source": [
    "import datetime\n",
    "# print(df.index[-1])\n",
    "last_date_st = df.index[-1].timestamp()\n",
    "next_date_st = last_date_st + 86400\n",
    "\n",
    "# print(next_date)\n",
    "\n",
    "for i in predict:\n",
    "    next_date = datetime.datetime.fromtimestamp(next_date_st)\n",
    "    df.loc[next_date] = [np.nan for _ in range(len(df.columns)-1)] + [i]\n",
    "    next_date_st +=  86400\n",
    "\n",
    "print(df.tail(40))"
   ]
  },
  {
   "cell_type": "code",
   "execution_count": 81,
   "metadata": {},
   "outputs": [
    {
     "data": {
      "image/png": "[encoded data removed]",
      "text/plain": [
       "<Figure size 432x288 with 1 Axes>"
      ]
     },
     "metadata": {},
     "output_type": "display_data"
    }
   ],
   "source": [
    "import matplotlib.pyplot as plt\n",
    "import matplotlib.style as style\n",
    "style.use('ggplot')\n",
    "df['Close'].plot()\n",
    "df['predict'].plot()\n",
    "plt.show()"
   ]
  },
  {
   "cell_type": "code",
   "execution_count": null,
   "metadata": {},
   "outputs": [],
   "source": []
  }
 ],
 "metadata": {
  "kernelspec": {
   "display_name": "Python 3",
   "language": "python",
   "name": "python3"
  },
  "language_info": {
   "codemirror_mode": {
    "name": "ipython",
    "version": 3
   },
   "file_extension": ".py",
   "mimetype": "text/x-python",
   "name": "python",
   "nbconvert_exporter": "python",
   "pygments_lexer": "ipython3",
   "version": "3.8.5"
  }
 },
 "nbformat": 4,
 "nbformat_minor": 4
}
